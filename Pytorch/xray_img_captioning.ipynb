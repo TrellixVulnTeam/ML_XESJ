{
  "nbformat": 4,
  "nbformat_minor": 0,
  "metadata": {
    "colab": {
      "provenance": [],
      "collapsed_sections": []
    },
    "kernelspec": {
      "name": "python3",
      "display_name": "Python 3"
    },
    "language_info": {
      "name": "python"
    },
    "gpuClass": "standard"
  },
  "cells": [
    {
      "cell_type": "markdown",
      "metadata": {
        "id": "RX_yykRMgY_H"
      },
      "source": [
        "Data is available here https://openi.nlm.nih.gov/faq\n",
        "\n",
        "download possible from inside accordion box:  ' Where can I get the Chest X-ray images in Open-i ? '"
      ]
    },
    {
      "cell_type": "code",
      "metadata": {
        "id": "FaIt9Ho3nixe"
      },
      "source": [
        "!pip install -q torchdata\n",
        "!pip install -q torch_summary\n",
        "\n",
        "import torch\n",
        "import torch.nn as nn\n",
        "from torch.nn.utils.rnn import pack_padded_sequence\n",
        "from torch.utils.data import Dataset, DataLoader\n",
        "\n",
        "from torchvision import models, transforms\n",
        "from torchtext.data.utils import get_tokenizer\n",
        "from torchtext.vocab import build_vocab_from_iterator\n",
        "from torchsummary import summary\n",
        "\n",
        "import pandas as pd\n",
        "import numpy as np\n",
        "import matplotlib.pyplot as plt\n",
        "from sklearn.model_selection import train_test_split\n",
        "\n",
        "import os\n",
        "from tqdm import tqdm\n",
        "import re\n",
        "import cv2\n",
        "from google.colab.patches import cv2_imshow\n",
        "from PIL import Image\n",
        "\n",
        "device = torch.device(\"cuda\" if torch.cuda.is_available() else \"cpu\")"
      ],
      "execution_count": null,
      "outputs": []
    },
    {
      "cell_type": "code",
      "source": [
        "!mkdir -p images\n",
        "!mkdir -p reports\n",
        "!wget -O images.tgz -q https://openi.nlm.nih.gov/imgs/collections/NLMCXR_png.tgz\n",
        "!tar -xf images.tgz -C /content/images/   # !cp -r /content/*.png   /content/images/\n",
        "!rm images.tgz\n",
        "\n",
        "!wget -O reports.tgz -q https://openi.nlm.nih.gov/imgs/collections/NLMCXR_reports.tgz\n",
        "!tar -xf reports.tgz -C /content/reports/ \n",
        "!rm reports.tgz\n"
      ],
      "metadata": {
        "id": "IHEqN6f0Jk71"
      },
      "execution_count": null,
      "outputs": []
    },
    {
      "cell_type": "code",
      "metadata": {
        "id": "usZyXVQMlIQG"
      },
      "source": [
        "image_folder = '/content/images/' #path to folder containing images\n",
        "total_images = len(os.listdir(image_folder))\n",
        "reports_folder = '/content/reports/ecgen-radiology/'\n",
        "total_reports = len(os.listdir(reports_folder))"
      ],
      "execution_count": null,
      "outputs": []
    },
    {
      "cell_type": "code",
      "metadata": {
        "id": "VA63-Z7n-LHL",
        "cellView": "form"
      },
      "source": [
        "#@title xml to dataframe { form-width: \"20%\" }\n",
        "\n",
        "# R E F E R E N C E for this section of code : https://ashishthomaschempolil.medium.com/ \n",
        "no_images = [] \n",
        "for file in os.listdir(reports_folder):\n",
        "  report_file = os.path.join(reports_folder,file)\n",
        "  with open(report_file, 'r') as f: \n",
        "    data = f.read()\n",
        "  regex = r\"parentImage id.*\" \n",
        "  k  = re.findall(regex,data)\n",
        "  temp = len(k)\n",
        "  no_images.append(temp)\n",
        "\n",
        "no_images = np.array(no_images)\n",
        "\n",
        "def decontracted(phrase): \n",
        "  \"\"\"\n",
        "  performs text decontraction of words like won't to will not\n",
        "  \"\"\"\n",
        "  # specific\n",
        "  phrase = re.sub(r\"won\\'t\", \"will not\", phrase)\n",
        "  phrase = re.sub(r\"can\\'t\", \"can not\", phrase)\n",
        "\n",
        "  # general\n",
        "  phrase = re.sub(r\"n\\'t\", \" not\", phrase)\n",
        "  phrase = re.sub(r\"\\'re\", \" are\", phrase)\n",
        "  phrase = re.sub(r\"\\'s\", \" is\", phrase)\n",
        "  phrase = re.sub(r\"\\'d\", \" would\", phrase)\n",
        "  phrase = re.sub(r\"\\'ll\", \" will\", phrase)\n",
        "  phrase = re.sub(r\"\\'t\", \" not\", phrase)\n",
        "  phrase = re.sub(r\"\\'ve\", \" have\", phrase)\n",
        "  phrase = re.sub(r\"\\'m\", \" am\", phrase)\n",
        "  return phrase\n",
        "\n",
        "\n",
        "def get_info(xml_data,info): \n",
        "  \"\"\"\n",
        "  extracts the information data from the xml file and does text preprocessing on them\n",
        "  here info can be 1 value in this list [\"COMPARISON\",\"INDICATION\",\"FINDINGS\",\"IMPRESSION\"]\n",
        "  \"\"\"\n",
        "  regex = r\"\\\"\"  +info +r\"\\\".*\" \n",
        "  k = re.findall(regex,xml_data)[0] #finding info part of the report\n",
        "\n",
        "  regex = r\"\\>.*\\<\"\n",
        "  k = re.findall(regex,k)[0] #removing info string and /AbstractText>'\n",
        "\n",
        "  regex = r\"\\d.\" \n",
        "  k = re.sub(regex,\"\",k) #removing all values like \"1.\" and \"2.\" etc\n",
        "\n",
        "  regex = r\"X+\"\n",
        "  k = re.sub(regex,\"\",k) #removing words like XXXX\n",
        "\n",
        "  regex = r\" \\.\"\n",
        "  k = re.sub(regex,\"\",k) #removing singular fullstop ie \" .\"\n",
        "\n",
        "  regex = r\"[^.a-zA-Z]\" \n",
        "  k = re.sub(regex,\" \",k) #removing all special characters except for full stop\n",
        "\n",
        "  regex = r\"\\.\"\n",
        "  k = re.sub(regex,\" .\",k) #adding space before fullstop\n",
        "  k = decontracted(k) #perform decontraction\n",
        "  k = k.strip().lower() #strips the begining and end of the string of spaces and converts all into lowercase\n",
        "  k = \" \".join(k.split()) #removes unwanted spaces\n",
        "  if k==\"\": #if the resulting sentence is an empty string return null value\n",
        "    k = np.nan\n",
        "  return k\n",
        "\n",
        "def get_final(data):\n",
        "  \"\"\"\n",
        "  given an xml data returns \"COMPARISON\",\"INDICATION\",\"FINDINGS\",\"IMPRESSION\" part of the data\n",
        "  \"\"\"\n",
        "  try: #assigning null values to the ones that don't have the concerned info\n",
        "      comparison = get_info(data, \"COMPARISON\")\n",
        "  except:\n",
        "    comparison = np.nan;\n",
        "\n",
        "  try: #assigning null values to the ones that don't have the concerned info\n",
        "    indication = get_info(data, \"INDICATION\")\n",
        "  except:\n",
        "    indication = np.nan;\n",
        "\n",
        "  try: #assigning null values to the ones that don't have the concerned info\n",
        "    finding = get_info(data,\"FINDINGS\")\n",
        "  except:\n",
        "    finding = np.nan;\n",
        "\n",
        "  try: #assigning null values to the ones that don't have the concerned info\n",
        "    impression = get_info(data, \"IMPRESSION\")\n",
        "  except:\n",
        "    impression = np.nan;\n",
        "\n",
        "  return comparison,indication,finding,impression\n",
        "\n",
        "def get_df():\n",
        "  \"\"\"\n",
        "  Given an xml data, it will extract the two image names and corresponding info text and returns a dataframe\n",
        "  \"\"\"\n",
        "  im1 = [] #there are 2 images associated with a report\n",
        "  im2 = []\n",
        "  #stores info\n",
        "  comparisons = []\n",
        "  indications = []\n",
        "  findings = []\n",
        "  impressions = [] \n",
        "  report = [] #stores xml file name\n",
        "  for file in tqdm(os.listdir(reports_folder)):\n",
        "    report_file = os.path.join(reports_folder,file)\n",
        "    with open(report_file, 'r') as f:  #reading the xml data\n",
        "      data = f.read()\n",
        "  \n",
        "    regex = r\"parentImage id.*\" #getting all the image names\n",
        "    k  = re.findall(regex,data)\n",
        "\n",
        "    if len(k)==2: \n",
        "      regex = r\"\\\".*\\\"\" #getting the name\n",
        "      image1 = re.findall(regex,k[0])[0]\n",
        "      image2 = re.findall(regex,k[1])[0]\n",
        "\n",
        "      image1 = re.sub(r\"\\\"\",\"\",image1)\n",
        "      image2 = re.sub(r\"\\\"\",\"\",image2)\n",
        "\n",
        "      image1 = image1.strip()+\".png\"\n",
        "      image2 = image2.strip()+\".png\"\n",
        "      im1.append(image1)\n",
        "      im2.append(image2)\n",
        "\n",
        "      comparison,indication,finding,impression = get_final(data)\n",
        "      comparisons.append(comparison)\n",
        "      indications.append(indication)\n",
        "      findings.append(finding)\n",
        "      impressions.append(impression)\n",
        "      report.append(file) #xml file name\n",
        "\n",
        "    \n",
        "    elif len(k)<2:\n",
        "      regex = r\"\\\".*\\\"\" #getting the name\n",
        "      try: #if the exception is raised means no image file name was found\n",
        "        image1 = re.findall(regex,k[0])[0]\n",
        "        image1 = re.sub(r\"\\\"\",\"\",image1) #removing \"\n",
        "        image2 = np.nan\n",
        "\n",
        "        image1 = image1.strip()+\".png\"\n",
        "      except:\n",
        "        image1 = np.nan\n",
        "        image2 = np.nan\n",
        "\n",
        "\n",
        "      im1.append(image1)\n",
        "      im2.append(image2)\n",
        "      comparison,indication,finding,impression = get_final(data)\n",
        "      comparisons.append(comparison)\n",
        "      indications.append(indication)\n",
        "      findings.append(finding)\n",
        "      impressions.append(impression)\n",
        "      report.append(file) #xml file name\n",
        "    \n",
        "    else: #if there are more than 2 images concerned with report\n",
        "      comparison,indication,finding,impression = get_final(data)\n",
        "\n",
        "      for i in range(len(k)-1):\n",
        "        regex = r\"\\\".*\\\"\" #getting the name\n",
        "        image1 = re.findall(regex,k[i])[0] #re.findall returns a list\n",
        "        image2 = re.findall(regex,k[i+1])[0] \n",
        "\n",
        "        image1 = re.sub(r\"\\\"\",\"\",image1) #removing \"\n",
        "        image2 = re.sub(r\"\\\"\",\"\",image2) #removing \"\n",
        "\n",
        "        image1 = image1.strip()+\".png\"\n",
        "        image2 = image2.strip()+\".png\"\n",
        "\n",
        "        im1.append(image1)\n",
        "        im2.append(image2)\n",
        "        comparisons.append(comparison)\n",
        "        indications.append(indication)\n",
        "        findings.append(finding)\n",
        "        impressions.append(impression)\n",
        "        report.append(file) #xml file name\n",
        "    \n",
        "  df = pd.DataFrame({\"image_1\":im1,\"image_2\":im2,\"comparison\":comparisons,\"indication\":indications,\"findings\":findings,\"impression\":impressions,\"xml file name\":report})\n",
        "  return df\n",
        "\n",
        "df = get_df()"
      ],
      "execution_count": null,
      "outputs": []
    },
    {
      "cell_type": "code",
      "metadata": {
        "id": "lqc4gTmAUPh6",
        "outputId": "d07e311e-743a-4f68-9d2a-71af1fbafd0c",
        "colab": {
          "base_uri": "https://localhost:8080/"
        }
      },
      "source": [
        "df.to_pickle(\"/content/df.pkl\")\n",
        "df = pd.read_pickle(\"/content/df.pkl\")\n",
        "df.shape"
      ],
      "execution_count": null,
      "outputs": [
        {
          "output_type": "execute_result",
          "data": {
            "text/plain": [
              "(4169, 7)"
            ]
          },
          "metadata": {},
          "execution_count": 11
        }
      ]
    },
    {
      "cell_type": "code",
      "metadata": {
        "id": "D14StEagtnE9",
        "outputId": "ac0ce741-af71-4a9f-93cf-4caa1988354a",
        "colab": {
          "base_uri": "https://localhost:8080/"
        },
        "cellView": "form"
      },
      "source": [
        "#@title dataframe modifications { form-width: \"20%\" }\n",
        "\n",
        "df.drop(df[(df['impression'].isnull())|(df['image_1'].isnull())].index,inplace=True)\n",
        "df = df.reset_index(drop=True).copy()\n",
        "\n",
        "df.loc[df.image_2.isnull(),'image_2'] = df[df.image_2.isnull()]['image_1'].values\n",
        "im1_size = []\n",
        "im2_size = []\n",
        "for index, _ in df.iterrows(): #index, row --> row.get('image_2')\n",
        "  # if cv2.imread(os.path.join(image_folder,str(df.loc[index,'image_1']))) is not None\\\n",
        "  # and cv2.imread(os.path.join(image_folder,str(df.loc[index,'image_2']))) is not None:\n",
        "    im1_size.append( cv2.imread(os.path.join(image_folder, str(df.loc[index,'image_1']))).shape[:2])\n",
        "    im2_size.append(cv2.imread(os.path.join(image_folder, str(df.loc[index,'image_2']))).shape[:2])\n",
        "\n",
        "#df = df[:len(im1_size)]\n",
        "df['im1_height'] = [i[0] for i in im1_size]\n",
        "df['im1_width'] = [i[1] for i in im1_size]\n",
        "df['im2_height'] = [i[0] for i in im2_size]\n",
        "df['im2_width'] = [i[1] for i in im2_size]"
      ],
      "execution_count": null,
      "outputs": [
        {
          "output_type": "stream",
          "name": "stdout",
          "text": [
            "CPU times: user 39.7 s, sys: 1.35 s, total: 41 s\n",
            "Wall time: 43.2 s\n"
          ]
        }
      ]
    },
    {
      "cell_type": "code",
      "metadata": {
        "id": "X1kDrv4qqVAA",
        "outputId": "8fb225a1-4799-45b6-b597-669d713a5391",
        "colab": {
          "base_uri": "https://localhost:8080/"
        }
      },
      "source": [
        "df.to_pickle(\"/content/df_final.pkl\")\n",
        "df = pd.read_pickle(\"/content/df_final.pkl\")\n",
        "df.shape"
      ],
      "execution_count": null,
      "outputs": [
        {
          "output_type": "execute_result",
          "data": {
            "text/plain": [
              "(4033, 11)"
            ]
          },
          "metadata": {},
          "execution_count": 18
        }
      ]
    },
    {
      "cell_type": "code",
      "source": [
        "train, test = train_test_split(df, test_size = 0.1, random_state = 420)\n",
        "test = test.reset_index(drop=True)\n",
        "train = train.reset_index(drop=True)"
      ],
      "metadata": {
        "id": "JOkpu0_Ow3Li"
      },
      "execution_count": null,
      "outputs": []
    },
    {
      "cell_type": "code",
      "source": [
        "tokenizer = get_tokenizer('basic_english')\n",
        "train_iter = train['impression'].tolist()\n",
        "all_tokens = [[w.lower() for w in c.split()] for c in train_iter]\n",
        "all_tokens = [w for sublist in all_tokens for w in sublist]\n",
        "\n",
        "def yield_tokens(data_iter):\n",
        "    for text in all_tokens:\n",
        "        yield tokenizer(text)\n",
        "\n",
        "vocab = build_vocab_from_iterator(yield_tokens(all_tokens), specials=[\"<unk>\"], special_first=True)\n",
        "\n",
        "vocab.set_default_index(vocab[\"<unk>\"])\n",
        "\n",
        "vocab(['<start>', 'here', 'is', 'an', 'example', '<end>'])"
      ],
      "metadata": {
        "colab": {
          "base_uri": "https://localhost:8080/"
        },
        "id": "ZHW4eE1iaQYP",
        "outputId": "c46384d0-e54a-4906-8a99-227c42127560"
      },
      "execution_count": null,
      "outputs": [
        {
          "output_type": "execute_result",
          "data": {
            "text/plain": [
              "[0, 1176, 18, 194, 0, 0]"
            ]
          },
          "metadata": {},
          "execution_count": 102
        }
      ]
    },
    {
      "cell_type": "code",
      "source": [
        "class CaptioningData(Dataset):\n",
        "    def __init__(self, root, df, vocab):\n",
        "        self.df = df.reset_index(drop=True)\n",
        "        self.root = root\n",
        "        self.vocab = vocab\n",
        "        self.transform = transforms.Compose([ \n",
        "            transforms.Resize(224),\n",
        "            transforms.RandomCrop(224),\n",
        "            transforms.RandomHorizontalFlip(), \n",
        "            transforms.ToTensor(), \n",
        "            transforms.Normalize((0.485, 0.456, 0.406), \n",
        "                                 (0.229, 0.224, 0.225))]\n",
        "        )\n",
        "    def __getitem__(self, index):\n",
        "        \"\"\"Returns one data pair (image and caption).\"\"\"\n",
        "        row = self.df.iloc[index].squeeze()\n",
        "        id = row.image_1\n",
        "        image_path = f'{self.root}/{id}'\n",
        "        image = Image.open(os.path.join(image_path)).convert('RGB')\n",
        "\n",
        "        caption = row.impression\n",
        "        tokens = str(caption).lower().split()\n",
        "        target = []\n",
        "        target.append(vocab['<start>'])\n",
        "        target.extend([vocab[token] for token in tokens])\n",
        "        target.append(vocab['<end>'])\n",
        "        target = torch.Tensor(target).long()\n",
        "        return image, target, caption\n",
        "    def choose(self):\n",
        "        return self[np.random.randint(len(self))]\n",
        "    def __len__(self):\n",
        "        return len(self.df)\n",
        "    def collate_fn(self, data):\n",
        "        data.sort(key=lambda x: len(x[1]), reverse=True)\n",
        "        images, targets, captions = zip(*data)\n",
        "        images = torch.stack([self.transform(image) for image in images], 0)\n",
        "        lengths = [len(tar) for tar in targets]\n",
        "        _targets = torch.zeros(len(captions), max(lengths)).long()\n",
        "        for i, tar in enumerate(targets):\n",
        "            end = lengths[i]\n",
        "            _targets[i, :end] = tar[:end] \n",
        "        return images.to(device), _targets.to(device), torch.tensor(lengths).long().to(device)\n",
        "\n",
        "trn_ds = CaptioningData('images', train, vocab)\n",
        "val_ds = CaptioningData('images', test, vocab)\n",
        "\n",
        "image, target, caption = trn_ds.choose()\n",
        "plt.imshow(image); print(target)"
      ],
      "metadata": {
        "id": "W7qoZUCne2B-"
      },
      "execution_count": null,
      "outputs": []
    },
    {
      "cell_type": "code",
      "source": [
        "trn_dl = DataLoader(trn_ds, 32, collate_fn=trn_ds.collate_fn)\n",
        "val_dl = DataLoader(val_ds, 32, collate_fn=val_ds.collate_fn)"
      ],
      "metadata": {
        "id": "hugX4pPirC3Q"
      },
      "execution_count": null,
      "outputs": []
    },
    {
      "cell_type": "code",
      "source": [
        "class EncoderCNN(nn.Module):\n",
        "    def __init__(self, embed_size):\n",
        "        \"\"\"Load the pretrained ResNet-152 and replace top fc layer.\"\"\"\n",
        "        super(EncoderCNN, self).__init__()\n",
        "        resnet = models.resnet152(pretrained=True)\n",
        "        modules = list(resnet.children())[:-1] # delete the last fc layer.\n",
        "        self.resnet = nn.Sequential(*modules)\n",
        "        self.linear = nn.Linear(resnet.fc.in_features, embed_size)\n",
        "        self.bn = nn.BatchNorm1d(embed_size, momentum=0.01)\n",
        "        \n",
        "    def forward(self, images):\n",
        "        \"\"\"Extract feature vectors from input images.\"\"\"\n",
        "        with torch.no_grad():\n",
        "            features = self.resnet(images)\n",
        "        features = features.reshape(features.size(0), -1)\n",
        "        features = self.bn(self.linear(features))\n",
        "        return features\n",
        "encoder = EncoderCNN(256).to(device)\n",
        "\n",
        "print(summary(encoder,torch.zeros(32,3,224,224).to(device)))"
      ],
      "metadata": {
        "id": "nkFrcRWor1uh"
      },
      "execution_count": null,
      "outputs": []
    },
    {
      "cell_type": "code",
      "source": [
        "class DecoderRNN(nn.Module):\n",
        "    def __init__(self, embed_size, hidden_size, vocab_size, num_layers, max_seq_length=80):\n",
        "        \"\"\"Set the hyper-parameters and build the layers.\"\"\"\n",
        "        super(DecoderRNN, self).__init__()\n",
        "        self.embed = nn.Embedding(vocab_size, embed_size)\n",
        "        self.lstm = nn.LSTM(embed_size, hidden_size, num_layers, batch_first=True)\n",
        "        self.linear = nn.Linear(hidden_size, vocab_size)\n",
        "        self.max_seq_length = max_seq_length\n",
        "        \n",
        "    def forward(self, features, captions, lengths):\n",
        "        \"\"\"Decode image feature vectors and generates captions.\"\"\"\n",
        "        embeddings = self.embed(captions)\n",
        "        embeddings = torch.cat((features.unsqueeze(1), embeddings), 1)\n",
        "        packed = pack_padded_sequence(embeddings, lengths.cpu(), batch_first=True) \n",
        "        outputs, _ = self.lstm(packed)\n",
        "        outputs = self.linear(outputs[0])\n",
        "        return outputs\n",
        "    def predict(self, features, states=None):\n",
        "        \"\"\"Generate captions for given image features using greedy search.\"\"\"\n",
        "        sampled_ids = []\n",
        "        inputs = features.unsqueeze(1)\n",
        "        for i in range(self.max_seq_length):\n",
        "            hiddens, states = self.lstm(inputs, states) # hiddens: (batch_size, 1, hidden_size)\n",
        "            outputs = self.linear(hiddens.squeeze(1)) # outputs: (batch_size, vocab_size)\n",
        "            _, predicted = outputs.max(1) # predicted: (batch_size)\n",
        "            sampled_ids.append(predicted)\n",
        "            inputs = self.embed(predicted) # inputs: (batch_size, embed_size)\n",
        "            inputs = inputs.unsqueeze(1) # inputs: (batch_size, 1, embed_size)\n",
        "\n",
        "        sampled_ids = torch.stack(sampled_ids, 1) # sampled_ids: (batch_size, max_seq_length)\n",
        "        # convert predicted tokens to strings\n",
        "        sentences = []\n",
        "        for sampled_id in sampled_ids:\n",
        "            sampled_id = sampled_id.cpu().numpy()\n",
        "            sampled_caption = []\n",
        "            for word_id in sampled_id:\n",
        "                word = vocab.lookup_token(word_id) #vocab[word_id] but we want to convert tokenid back to token vocab.lookup_token(word_id) \n",
        "                sampled_caption.append(word)\n",
        "                if word == '<end>':\n",
        "                    break\n",
        "            sentence = ' '.join(sampled_caption)\n",
        "            sentences.append(sentence)\n",
        "        return sentences"
      ],
      "metadata": {
        "id": "vpPT2zOwsPPX"
      },
      "execution_count": null,
      "outputs": []
    },
    {
      "cell_type": "code",
      "source": [
        "def train_batch(data, encoder, decoder, optimizer, criterion):\n",
        "    encoder.train()\n",
        "    decoder.train()\n",
        "    images, captions, lengths = data\n",
        "    images = images.to(device)\n",
        "    captions = captions.to(device)\n",
        "    targets = pack_padded_sequence(captions, lengths.cpu(), batch_first=True)[0]\n",
        "    features = encoder(images)\n",
        "    outputs = decoder(features, captions, lengths)\n",
        "    loss = criterion(outputs, targets)\n",
        "    decoder.zero_grad()\n",
        "    encoder.zero_grad()\n",
        "    loss.backward()\n",
        "    optimizer.step()\n",
        "    return loss"
      ],
      "metadata": {
        "id": "gY932OHAsUyd"
      },
      "execution_count": null,
      "outputs": []
    },
    {
      "cell_type": "code",
      "source": [
        "@torch.no_grad()\n",
        "def validate_batch(data, encoder, decoder, criterion):\n",
        "    encoder.eval()\n",
        "    decoder.eval()\n",
        "    images, captions, lengths = data\n",
        "    images = images.to(device)\n",
        "    captions = captions.to(device)\n",
        "    targets = pack_padded_sequence(captions, lengths.cpu(), batch_first=True)[0]\n",
        "    features = encoder(images)\n",
        "    outputs = decoder(features, captions, lengths)\n",
        "    loss = criterion(outputs, targets)\n",
        "    return loss"
      ],
      "metadata": {
        "id": "fsZFKH1dsaU3"
      },
      "execution_count": null,
      "outputs": []
    },
    {
      "cell_type": "code",
      "source": [
        "encoder = EncoderCNN(256).to(device)\n",
        "decoder = DecoderRNN(256, 512, len(vocab), 1).to(device)\n",
        "criterion = nn.CrossEntropyLoss()\n",
        "params = list(decoder.parameters()) + list(encoder.linear.parameters()) + list(encoder.bn.parameters())\n",
        "optimizer = torch.optim.AdamW(params, lr=1e-3)\n",
        "n_epochs = 1  #try at least 20"
      ],
      "metadata": {
        "id": "IvYibKG5seXm",
        "colab": {
          "base_uri": "https://localhost:8080/"
        },
        "outputId": "a9e39f2c-918a-4307-d59b-64c19d408fe3"
      },
      "execution_count": null,
      "outputs": [
        {
          "output_type": "stream",
          "name": "stderr",
          "text": [
            "/usr/local/lib/python3.7/dist-packages/torchvision/models/_utils.py:209: UserWarning: The parameter 'pretrained' is deprecated since 0.13 and will be removed in 0.15, please use 'weights' instead.\n",
            "  f\"The parameter '{pretrained_param}' is deprecated since 0.13 and will be removed in 0.15, \"\n",
            "/usr/local/lib/python3.7/dist-packages/torchvision/models/_utils.py:223: UserWarning: Arguments other than a weight enum or `None` for 'weights' are deprecated since 0.13 and will be removed in 0.15. The current behavior is equivalent to passing `weights=ResNet152_Weights.IMAGENET1K_V1`. You can also use `weights=ResNet152_Weights.DEFAULT` to get the most up-to-date weights.\n",
            "  warnings.warn(msg)\n"
          ]
        }
      ]
    },
    {
      "cell_type": "code",
      "source": [
        "history = {'train': [], 'valid': [], 'accuracy': []}\n",
        "\n",
        "for epoch in range(n_epochs):\n",
        "    if epoch == 5: optimizer = torch.optim.AdamW(params, lr=1e-4)\n",
        "    trainloss = []\n",
        "    for i, data in enumerate(trn_dl):\n",
        "        trn_loss = train_batch(data, encoder, decoder, optimizer, criterion)\n",
        "        trainloss.append(trn_loss)\n",
        "        print('Epoch {}/{} --- Training Loss: {:.4f}\\r'.format(epoch, n_epochs, trn_loss))\n",
        "\n",
        "    validloss = []\n",
        "    for i, data in enumerate(val_dl):\n",
        "        val_loss = validate_batch(data, encoder, decoder, criterion)\n",
        "        validloss.append(val_loss)\n",
        "        print('Epoch {}/{} --- Validation Loss: {:.4f}\\r'.format(epoch, n_epochs, val_loss))\n",
        "\n",
        "    history['train'].append(trainloss)\n",
        "    history['valid'].append(validloss)\n",
        "    history['accuracy'].append(sum(validloss)/len(validloss))"
      ],
      "metadata": {
        "id": "j75HNQ2SsuqF"
      },
      "execution_count": null,
      "outputs": []
    },
    {
      "cell_type": "code",
      "source": [
        "def plot_scores(history):\n",
        "  trainlosses  = [i.item() for i in history['train'][0]]\n",
        "  validlosses = [i.item() for i in history['valid'][0]]\n",
        "  accuracies = [i.item() for i in history.get('accuracy')]\n",
        "\n",
        "  trainrainlen = len(trainlosses)\n",
        "  validlen = len(validlosses)\n",
        "  acclen = len(accuracies)\n",
        "  ratioA = trainrainlen//validlen\n",
        "  ratioB = trainrainlen//acclen\n",
        "\n",
        "  val = np.repeat(validlosses, ratioA).tolist()\n",
        "  acc = np.repeat(accuracies, ratioB).tolist()\n",
        "\n",
        "  plt.plot(trainlosses, '-co')\n",
        "  plt.plot(val, '-b')\n",
        "  plt.plot(acc, '-m')\n",
        "\n",
        "  plt.xticks(range(n_epochs))\n",
        "  plt.legend(['trainloss', 'validloss', 'accuracy'])\n",
        "  plt.xlabel('epoch')\n",
        "  plt.ylabel('value')\n",
        "  plt.title('learning Performance');\n",
        "\n",
        "plot_scores(history)"
      ],
      "metadata": {
        "colab": {
          "base_uri": "https://localhost:8080/",
          "height": 295
        },
        "id": "OuXPLViwY5of",
        "outputId": "21ed5d43-c169-4148-992b-406e4fabf7e2"
      },
      "execution_count": null,
      "outputs": [
        {
          "output_type": "display_data",
          "data": {
            "text/plain": [
              "<Figure size 432x288 with 1 Axes>"
            ],
            "image/png": "[encoded data removed]"
          },
          "metadata": {
            "needs_background": "light"
          }
        }
      ]
    },
    {
      "cell_type": "code",
      "source": [
        "def load_image(image_path, transform=None):\n",
        "    image = Image.open(image_path).convert('RGB')\n",
        "    image = image.resize([224, 224], Image.LANCZOS)\n",
        "    if transform is not None:\n",
        "        tfm_image = transform(image)[None]\n",
        "    return image, tfm_image\n",
        "\n",
        "@torch.no_grad()\n",
        "def load_image_and_predict(image_path):\n",
        "    transform = transforms.Compose([\n",
        "        transforms.ToTensor(), \n",
        "        transforms.Normalize((0.485, 0.456, 0.406), \n",
        "                             (0.229, 0.224, 0.225))\n",
        "    ])\n",
        "\n",
        "    org_image, tfm_image = load_image(image_path, transform)\n",
        "    image_tensor = tfm_image.to(device)\n",
        "    encoder.eval()\n",
        "    decoder.eval()\n",
        "    feature = encoder(image_tensor)\n",
        "    sentence = decoder.predict(feature)[0]\n",
        "    plt.imshow(org_image)\n",
        "\n",
        "    sentence = re.sub(\"<unk> \", \"\", sentence)\n",
        "    return print(sentence)\n",
        "\n",
        "load_image_and_predict(f\"{image_folder}{test.loc[17, 'image_1']}\")"
      ],
      "metadata": {
        "colab": {
          "base_uri": "https://localhost:8080/",
          "height": 307
        },
        "id": "vHHJ-gOgs6Lc",
        "outputId": "25da8fd0-6ae7-483f-da47-5169feafb826"
      },
      "execution_count": null,
      "outputs": [
        {
          "output_type": "stream",
          "name": "stdout",
          "text": [
            "no acute cardiopulmonary abnormality . no acute cardiopulmonary abnormality . no acute cardiopulmonary abnormality . no acute cardiopulmonary abnormality . no acute cardiopulmonary abnormality . no acute cardiopulmonary abnormality . no acute cardiopulmonary abnormality . no acute cardiopulmonary abnormality . no acute cardiopulmonary abnormality . no acute cardiopulmonary abnormality . no acute cardiopulmonary abnormality . no acute cardiopulmonary abnormality . no acute cardiopulmonary abnormality . no\n"
          ]
        },
        {
          "output_type": "display_data",
          "data": {
            "text/plain": [
              "<Figure size 432x288 with 1 Axes>"
            ],
            "image/png": "[encoded data removed]"
          },
          "metadata": {
            "needs_background": "light"
          }
        }
      ]
    }
  ]
}