{
  "cells": [
    {
      "cell_type": "code",
      "execution_count": 16,
      "metadata": {
        "id": "CRQKr6dHmBoL"
      },
      "outputs": [],
      "source": [
        "from pathlib import Path\n",
        "import inspect\n",
        "\n",
        "from PIL import Image\n",
        "import numpy as np\n",
        "\n",
        "from matplotlib import pyplot as plt\n",
        "# import shutil"
      ]
    },
    {
      "cell_type": "code",
      "execution_count": 26,
      "metadata": {
        "id": "zxeczmcIo3zA"
      },
      "outputs": [],
      "source": [
        "!wget https://courses.cs.washington.edu/courses/cse455/10wi/projects/project4/psmImages_png.zip\n",
        "!unzip psmImages_png.zip \n",
        "!rm psmImages_png.zip\n",
        "\n",
        "#!mkdir data\n",
        "# !cp /content/psmImages/*  /content/data/\n",
        "##shutil.rmtree('/content/psmImages/')\n"
      ]
    },
    {
      "cell_type": "code",
      "execution_count": 27,
      "metadata": {
        "id": "uP1bG-UIl2FL"
      },
      "outputs": [],
      "source": [
        "# find the data directory by looking at this files position on your system\n",
        "DATA_DIR = Path(inspect.getfile(lambda: None)).parent.joinpath(\"/content/\", \"psmImages\")\n",
        "\n",
        "assert (\n",
        "    DATA_DIR.exists()\n",
        "), \"input data does not exist - please make sure to run ./get_data.sh in data folder\"\n"
      ]
    },
    {
      "cell_type": "code",
      "execution_count": 28,
      "metadata": {
        "id": "wXevemAFl2FO"
      },
      "outputs": [],
      "source": [
        "def load_imgs_masks_light_dirs(object_name=\"cat\"):\n",
        "    \"\"\"\n",
        "    returns:\n",
        "    imgs np.array [k,h,w] np.float32 [0.0, 1.0]\n",
        "    mask np.array [h,w] np.bool\n",
        "    light_positions np.array [k,3] np.float32\n",
        "    k: number of images\n",
        "    h: image height (num rows)\n",
        "    w: image width (num cols)\n",
        "    \"\"\"\n",
        "    available_objs = [\n",
        "        x.stem for x in DATA_DIR.iterdir() if x.is_dir() and \"chrome\" not in str(x)\n",
        "    ]\n",
        "\n",
        "    assert (\n",
        "        object_name in available_objs\n",
        "    ), \"unknown obj {0} - please select one of {1}\".format(object_name, available_objs)\n",
        "\n",
        "    obj_dir = DATA_DIR.joinpath(object_name)\n",
        "\n",
        "    mask = (\n",
        "        np.array(\n",
        "            Image.open(\n",
        "                obj_dir.joinpath(\"{}.{}.png\".format(object_name, \"mask\"))\n",
        "            ).convert(\"L\")\n",
        "        )\n",
        "        > 0\n",
        "    )\n",
        "\n",
        "    imgs = []\n",
        "    for im_path in sorted(list(obj_dir.glob(\"*.png\"))):\n",
        "        if \"mask\" in str(im_path):\n",
        "            # we already got that one\n",
        "            continue\n",
        "        else:\n",
        "            img = Image.open(im_path).convert(\"L\")\n",
        "            imgs.append(np.array(img))\n",
        "\n",
        "    imgs = np.stack(imgs, axis=0).astype(np.float64) / 256.0\n",
        "\n",
        "    # normally these would have to be recovered from the chrome ball\n",
        "    # we hard-code them here to save time\n",
        "    light_dirs = np.array(\n",
        "        [\n",
        "            [0.49816584, 0.46601385, 0.73120577],\n",
        "            [0.24236702, 0.13237001, 0.96111207],\n",
        "            [-0.03814999, 0.17201198, 0.98435586],\n",
        "            [-0.09196399, 0.44121093, 0.89267886],\n",
        "            [-0.31899811, 0.50078717, 0.80464428],\n",
        "            [-0.10791803, 0.55920516, 0.82197524],\n",
        "            [0.27970709, 0.42031713, 0.86319028],\n",
        "            [0.09845196, 0.42847982, 0.89817162],\n",
        "            [0.20550002, 0.33250804, 0.9204391],\n",
        "            [0.08520805, 0.33078218, 0.93985251],\n",
        "            [0.12815201, 0.043478, 0.99080105],\n",
        "            [-0.13871804, 0.35998611, 0.92258729],\n",
        "        ]\n",
        "    )\n",
        "\n",
        "    return imgs, mask, light_dirs\n",
        "    "
      ]
    },
    {
      "cell_type": "code",
      "execution_count": null,
      "metadata": {
        "id": "3QXPO2xEl2FR"
      },
      "outputs": [],
      "source": [
        "imgs, mask, light_positions = load_imgs_masks_light_dirs(\"cat\")\n",
        "plt.figure()\n",
        "plt.imshow(imgs[0], cmap=plt.cm.gray)\n",
        "plt.show()\n",
        "\n",
        "plt.figure()\n",
        "plt.imshow(mask, cmap=plt.cm.gray)\n",
        "plt.show()"
      ]
    },
    {
      "cell_type": "code",
      "execution_count": 30,
      "metadata": {
        "id": "aHcpWh_cl2FT"
      },
      "outputs": [],
      "source": [
        "def compute_normals_albedo_map(imgs, mask, light_positions):\n",
        "    \"\"\"\n",
        "    imgs np.array [k,h,w] np.float32 [0.0, 1.0]\n",
        "    mask np.array [h,w] np.bool\n",
        "    light_positions np.array [k,3] np.float32\n",
        "    ---\n",
        "    dims:\n",
        "    k: number of images\n",
        "    h: image height (num rows)\n",
        "    w: image width (num cols)\n",
        "    \"\"\"\n",
        "   \n",
        "    imgs_flat = np.reshape(imgs, (imgs.shape[0], -1))\n",
        "    normals = np.linalg.pinv(light_positions).dot(imgs_flat).T\n",
        "    normals_map = normals.reshape(imgs.shape[1], imgs.shape[2], 3)\n",
        "    rho = np.linalg.norm(normals_map, axis=-1)\n",
        "    # avoid div by zero:\n",
        "    mask = np.logical_and(mask, rho > 0.0)\n",
        "    rho += np.finfo(np.float32).eps\n",
        "    normals_div = normals_map / rho[..., None]\n",
        "    normals_unit = np.where(mask[..., None], normals_div, 0.0)\n",
        "\n",
        "    assert normals_unit.shape == (imgs.shape[1], imgs.shape[2], 3)\n",
        "    assert rho.shape == (imgs.shape[1], imgs.shape[2])\n",
        "\n",
        "    rho = np.clip(rho,0.0,1.0)\n",
        "    normals_unit = np.clip(normals_unit, 0.0, 1.0)\n",
        "    return normals_unit, rho, mask"
      ]
    },
    {
      "cell_type": "code",
      "execution_count": null,
      "metadata": {
        "id": "ip2xagKRl2FV"
      },
      "outputs": [],
      "source": [
        "normals_unit, rho, mask = compute_normals_albedo_map(imgs, mask, light_positions)\n",
        "\n",
        "plt.figure()\n",
        "plt.imshow(rho, cmap=plt.cm.gray)\n",
        "plt.title(\"Albedo\")\n",
        "plt.show()\n",
        "\n",
        "plt.figure()\n",
        "plt.imshow(normals_unit)\n",
        "plt.title(\"Normals\")\n",
        "plt.show()\n"
      ]
    },
    {
      "cell_type": "code",
      "execution_count": 32,
      "metadata": {
        "id": "1cqQG1Dpl2FW"
      },
      "outputs": [],
      "source": [
        "def relight_scene(light_pos, normals_unit, albedo, mask):\n",
        "    \"\"\"\n",
        "    light_pos np.array [k,3] np.float32\n",
        "    mask np.array [h,w] np.bool\n",
        "    ----\n",
        "    dims:\n",
        "    h: image height (num rows)\n",
        "    w: image width (num cols)\n",
        "    ----\n",
        "    returns:\n",
        "        imgs np.array [h,w] np.float32 [0.0, 1.0]\n",
        "    \"\"\"\n",
        "    assert light_pos.shape == (3,)\n",
        "    assert np.allclose(1.0, np.linalg.norm(light_pos))\n",
        "    assert normals_unit.shape[-1] == 3\n",
        "    assert len(normals_unit.shape) == 3\n",
        "\n",
        "    # you can do this in a loop, but we just use einsum\n",
        "    img = albedo * np.einsum(\"p,hwp->hw\", light_pos, normals_unit)\n",
        "    img_norm = (img - img.min()) / (img.max() - img.min())\n",
        "    img_norm = np.where(mask, img_norm, np.zeros_like(albedo))\n",
        "\n",
        "    assert np.all(\n",
        "        np.logical_and(0.0 <= img_norm, img_norm <= 1.0)\n",
        "    ), \"please normalize your image to interval [0.0,1.0]\"\n",
        "    return img_norm\n"
      ]
    },
    {
      "cell_type": "code",
      "execution_count": null,
      "metadata": {
        "id": "eY8pr8FRl2FX"
      },
      "outputs": [],
      "source": [
        "light_pos = np.array([0.5, 0.5, 0.7])\n",
        "new_albedo = 0.5\n",
        "for x in np.linspace(-2, 2, 5):\n",
        "    light_pos[0] = x\n",
        "    light_pos = np.array(light_pos / np.linalg.norm(light_pos))\n",
        "\n",
        "    new_img = relight_scene(light_pos, normals_unit, new_albedo, mask)\n",
        "\n",
        "    plt.figure()\n",
        "    plt.imshow(new_img, cmap=plt.cm.gray)\n",
        "    plt.title(\n",
        "        \"Relit image \\nNew light position @ {0}\\nAlbedo is now {1}\".format(light_pos, new_albedo)\n",
        "        )\n",
        "    plt.show()"
      ]
    }
  ],
  "metadata": {
    "colab": {
      "collapsed_sections": [],
      "provenance": []
    },
    "kernelspec": {
      "display_name": "Python 3.10.1 64-bit",
      "language": "python",
      "name": "python3"
    },
    "language_info": {
      "codemirror_mode": {
        "name": "ipython",
        "version": 3
      },
      "file_extension": ".py",
      "mimetype": "text/x-python",
      "name": "python",
      "nbconvert_exporter": "python",
      "pygments_lexer": "ipython3",
      "version": "3.10.1"
    },
    "vscode": {
      "interpreter": {
        "hash": "26de051ba29f2982a8de78e945f0abaf191376122a1563185a90213a26c5da77"
      }
    }
  },
  "nbformat": 4,
  "nbformat_minor": 0
}
